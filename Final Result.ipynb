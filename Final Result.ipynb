{
 "cells": [
  {
   "cell_type": "code",
   "execution_count": 22,
   "metadata": {},
   "outputs": [],
   "source": [
    "import pandas as pd\n",
    "import smtplib\n",
    "import ssl\n",
    "\n",
    "#importing the csv file & sorting according to leader's cgpa\n",
    "#if duplicates found in leader's cgpa then look through co leader's cgpa\n",
    "df = pd.read_csv(\"studentdata.csv\")\n",
    "df.sort_values(by=['leader_cgpa', 'co_leader_cgpa'], ascending = False, inplace = True)"
   ]
  },
  {
   "cell_type": "code",
   "execution_count": 23,
   "metadata": {},
   "outputs": [],
   "source": [
    "#assigning all the choices of each student in different lists (f_choice1 to f_choice9)\n",
    "\n",
    "for i in range(0, 10):\n",
    "    globals()['f_choice%s' % i] = list(df.iloc[i])\n",
    "    globals()['f_choice%s' % i] = globals()['f_choice%s' % i][7:]"
   ]
  },
  {
   "cell_type": "code",
   "execution_count": 24,
   "metadata": {},
   "outputs": [],
   "source": [
    "#look through the choice list in descending order and remove the duplicates\n",
    "\n",
    "j=0\n",
    "for i in range(j,10):\n",
    "    j+=1\n",
    "    for k in range(j, 10):\n",
    "        globals()['f_choice%s' % k].remove(globals()['f_choice%s' % i][0])\n",
    "\n",
    "\n",
    "contact = list(df['contact_mail'])\n",
    "leader = list(df['leader_name'])"
   ]
  },
  {
   "cell_type": "code",
   "execution_count": 25,
   "metadata": {},
   "outputs": [],
   "source": [
    "#one choice for every student\n",
    "\n",
    "final = {}\n",
    "for i in range(0,10):\n",
    "    final.update({leader[i]: globals()[\"f_choice%s\" %i][0]})"
   ]
  },
  {
   "cell_type": "code",
   "execution_count": 31,
   "metadata": {},
   "outputs": [
    {
     "data": {
      "text/plain": [
       "[\"Person6 got 'Machine Learning & Data Science' as your thesis subject.\",\n",
       " \"Person1 got 'Electronics' as your thesis subject.\",\n",
       " \"Person7 got 'Wireless Communication' as your thesis subject.\",\n",
       " \"Person8 got 'Internet of Things' as your thesis subject.\",\n",
       " \"Person2 got 'Power & Energy Systems' as your thesis subject.\",\n",
       " \"Person3 got 'Communication' as your thesis subject.\",\n",
       " \"Person9 got 'Optical Fiber Communication' as your thesis subject.\",\n",
       " \"Person4 got 'Digital Signal Processing' as your thesis subject.\",\n",
       " \"Person10 got 'Renewable Energy' as your thesis subject.\",\n",
       " \"Person5 got 'Biomedical Signal & Image Processing' as your thesis subject.\"]"
      ]
     },
     "execution_count": 31,
     "metadata": {},
     "output_type": "execute_result"
    }
   ],
   "source": [
    "#final message\n",
    "\n",
    "final_message = []\n",
    "for i,j in final.items():\n",
    "    final_message.append(f\"{i} got '{j}' as your thesis subject.\")\n",
    "final_message"
   ]
  },
  {
   "cell_type": "code",
   "execution_count": null,
   "metadata": {},
   "outputs": [],
   "source": [
    "#sending email to each students their result\n",
    "\n",
    "sender_email = \"ucchash886@gmail.com\"\n",
    "password = input(str(\"Please enter your password : \"))\n",
    "server = smtplib.SMTP('smtp.gmail.com', 587)\n",
    "server.starttls()\n",
    "server.login(sender_email, password)\n",
    "print(\"Login success\")\n",
    "\n",
    "# for i in range(0, len(contact)):\n",
    "#     server.sendmail(sender_email, contact[i], final_message[i])\n",
    "# print(\"Message sent\")\n",
    "\n",
    "#example for a valid receiver mail id:\n",
    "server.sendmail(sender_email, 'uchchhash_bd@outlook.com', final_message[0])"
   ]
  }
 ],
 "metadata": {
  "kernelspec": {
   "display_name": "Python 3",
   "language": "python",
   "name": "python3"
  },
  "language_info": {
   "codemirror_mode": {
    "name": "ipython",
    "version": 3
   },
   "file_extension": ".py",
   "mimetype": "text/x-python",
   "name": "python",
   "nbconvert_exporter": "python",
   "pygments_lexer": "ipython3",
   "version": "3.8.1"
  }
 },
 "nbformat": 4,
 "nbformat_minor": 4
}
